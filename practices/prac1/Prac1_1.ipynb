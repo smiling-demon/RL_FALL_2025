{
 "cells": [
  {
   "cell_type": "markdown",
   "metadata": {
    "id": "k4NMHBq16Y_g"
   },
   "source": [
    "# RL basics\n",
    "\n",
    "Термины и понятия:\n",
    "\n",
    "- агент/среда\n",
    "- наблюдение $o$ / состояние $s$\n",
    "- действие $a$, стратегия $\\pi: \\pi(s) \\rightarrow a$ функция перехода $T: T(s, a) \\rightarrow s'$\n",
    "- вознаграждение $r$, ф-я вознаграждений $R: R(s, a) \\rightarrow r$\n",
    "- цикл взаимодействия, траектория $\\tau: (s_0, a_0, r_0, s_1, a_1, r_1, ..., s_T, a_T, r_T)$, эпизод\n",
    "- отдача $G$, подсчет отдачи, средняя[/ожидаемая] отдача $\\mathbb{E}[G]$"
   ]
  },
  {
   "cell_type": "code",
   "execution_count": 1,
   "metadata": {
    "id": "MoNP7Wdn6aP0"
   },
   "outputs": [],
   "source": [
    "try:\n",
    "    import google.colab\n",
    "    COLAB = True\n",
    "except ModuleNotFoundError:\n",
    "    COLAB = False\n",
    "    pass\n",
    "\n",
    "if COLAB:\n",
    "    !pip -q install \"gymnasium[classic-control, atari, accept-rom-license]\"\n",
    "    !pip -q install piglet\n",
    "    !pip -q install imageio_ffmpeg\n",
    "    !pip -q install moviepy==1.0.3"
   ]
  },
  {
   "cell_type": "code",
   "execution_count": 2,
   "metadata": {
    "id": "9JPaLF5v6esZ"
   },
   "outputs": [],
   "source": [
    "import glob\n",
    "import io\n",
    "import base64\n",
    "import gymnasium as gym\n",
    "import numpy as np\n",
    "from IPython import display as ipythondisplay\n",
    "from IPython.display import HTML\n",
    "import matplotlib.pyplot as plt\n",
    "%matplotlib inline"
   ]
  },
  {
   "cell_type": "markdown",
   "metadata": {
    "id": "OGAoJeNF6hJO"
   },
   "source": [
    "## Agent, environment\n",
    "\n",
    "<img src=https://gymnasium.farama.org/_images/lunar_lander.gif caption=\"lunar lander\" width=\"150\" height=\"50\"><img src=https://gymnasium.farama.org/_images/mountain_car.gif caption=\"mountain car\" width=\"150\" height=\"50\">\n",
    "<img src=https://gymnasium.farama.org/_images/cliff_walking.gif caption=\"cliff walking\" width=\"300\" height=\"50\">\n",
    "<img src=https://ale.farama.org/_images/montezuma_revenge.gif caption=\"montezuma revenge\" width=\"150\" height=\"100\">\n",
    "<img src=https://github.com/danijar/crafter/raw/main/media/video.gif caption=\"crafter\" width=\"150\" height=\"100\">\n",
    "<img src=https://camo.githubusercontent.com/6df2ca438d8fe8aa7a132b859315147818c54af608f8609320c3c20e938acf48/68747470733a2f2f6d656469612e67697068792e636f6d2f6d656469612f344e78376759694d394e44724d724d616f372f67697068792e676966 caption=\"malmo minecraft\" width=\"150\" height=\"100\">\n",
    "<img src=https://images.ctfassets.net/kftzwdyauwt9/e0c0947f-1a44-4528-4a41450a9f0a/2d0e85871d58d02dbe01b2469d693d4a/table-03.gif caption=\"roboschool\" width=\"150\" height=\"100\">\n",
    "<img src=https://raw.githubusercontent.com/Tviskaron/mipt/master/2019/RL/02/mdp.png caption=\"Марковский процесс принятия решений\" width=\"150\" height=\"100\">\n",
    "<img src=https://minigrid.farama.org/_images/DoorKeyEnv.gif caption=\"minigrid\" width=\"120\" height=\"120\">"
   ]
  },
  {
   "cell_type": "markdown",
   "metadata": {
    "id": "dcyLKga76mA_"
   },
   "source": [
    "## Observation, state\n",
    "\n",
    "TODO:\n",
    "- добавить примеры наблюдений/состояний (числа, векторы, картинки)\n",
    "- интуитивное объяснение различия, положить пока, что наблюдение = состояние\n",
    "- пространство состояний\n",
    "\n",
    "\n",
    "В каждый момент времени среда имеет некоторое внутреннее состояние. Здесь слово \"состояние\" я употребил скорее в интуитивном понимании, чтобы обозначить, что среда изменчива (иначе какой смысл с ней взаимодействовать, если ничего не меняется). В обучении с подкреплением под термином состояние $s$ (или $s_t$, где $t$ — текущее время) подразумевают либо абстрактно информацию о \"состоянии\" среды, либо ее явное представление в виде данных, достаточные для полного описания \"состояния\". *NB: Здесь можно провести аналогию с компьютерными играми — файл сохранения игры как раз содержит информацию о \"состоянии\" мира игры, чтобы в будущем можно было продолжить с текущей точки, так что данные этого файла в целом можно с некоторой натяжкой считать состоянием (с натяжкой, потому что редко когда в сложных играх файлы сохранения содержат прямо вот всю информацию, так что после перезагрузки вы получите не совсем точную копию). При этом обычно подразумевается, что состояние не содержит в себе ничего лишнего, то есть это **минимальный** набор информации.*\n",
    "\n",
    "Наблюдением $o$ называют то, что агент \"видит\" о текущем состоянии среды. Это не обязательно зрение, а вообще вся доступная ему информация (условно, со всех его органов чувств).\n",
    "\n",
    "В общем случае наблюдение: кортеж/словарь многомерных векторов чисел."
   ]
  },
  {
   "cell_type": "code",
   "execution_count": 3,
   "metadata": {
    "id": "ypHv9w6i6pcX"
   },
   "outputs": [
    {
     "name": "stdout",
     "output_type": "stream",
     "text": [
      "(4,)\n",
      "(2,)\n"
     ]
    }
   ],
   "source": [
    "print(gym.make(\"CartPole-v1\").reset()[0].shape)\n",
    "print(gym.make(\"MountainCar-v0\").reset()[0].shape)"
   ]
  },
  {
   "cell_type": "markdown",
   "metadata": {
    "id": "GabuCLcJ67lb"
   },
   "source": [
    "## Action, policy, transition function\n",
    "\n",
    "Рассмотрим следующие MDP:\n",
    "\n",
    "- A: <img src=https://i.ibb.co/mrCMVZLQ/mdp-a.png caption=\"A\" width=\"400\" height=\"100\">\n",
    "- B: <img src=https://i.ibb.co/GQ2tVtjC/mdp-b.png caption=\"B\" width=\"400\" height=\"100\">\n",
    "\n",
    "Links to all:\n",
    "[A](https://i.ibb.co/mrCMVZLQ/mdp-a.png)\n",
    "[B](https://i.ibb.co/GQ2tVtjC/mdp-b.png)\n",
    "[C](https://i.ibb.co/Jj9LYHjP/mdp-c.png)\n",
    "[D](https://i.ibb.co/Y47Mr83b/mdp-d.png)\n",
    "[E](https://i.ibb.co/Kjt1Xhmf/mdp-e.png)\n",
    "\n",
    "Давайте явно запишем пространства состояний $S$ и действий $A$, а также функцию перехода $T$ среды."
   ]
  },
  {
   "cell_type": "markdown",
   "metadata": {},
   "source": [
    "### MDP #A"
   ]
  },
  {
   "cell_type": "code",
   "execution_count": 4,
   "metadata": {
    "id": "4XpqNc_o6_CS"
   },
   "outputs": [
    {
     "name": "stdout",
     "output_type": "stream",
     "text": [
      "states={0, 1, 2} | actions={0}\n",
      "Transition function T={(0, 0): 1, (1, 0): 2, (2, 0): 2}\n"
     ]
    }
   ],
   "source": [
    "states = set(range(3))\n",
    "actions = set(range(1))\n",
    "\n",
    "print(f'{states=} | {actions=}')\n",
    "\n",
    "T = {\n",
    "    (0, 0): 1,\n",
    "    (1, 0): 2,\n",
    "    (2, 0): 2\n",
    "}\n",
    "print(f'Transition function {T=}')\n",
    "\n",
    "A_mdp = states, actions, T"
   ]
  },
  {
   "cell_type": "markdown",
   "metadata": {
    "id": "KlqB4WcZ7CDK"
   },
   "source": [
    "Попробуйте записать функцию перехода в матричном виде:"
   ]
  },
  {
   "cell_type": "code",
   "execution_count": 5,
   "metadata": {
    "id": "jmg8hnng7EnJ"
   },
   "outputs": [
    {
     "name": "stdout",
     "output_type": "stream",
     "text": [
      "Matrix form of transition function:\n",
      " [[[0. 1. 0.]\n",
      "  [0. 0. 1.]\n",
      "  [0. 0. 1.]]]\n"
     ]
    }
   ],
   "source": [
    "n_actions = len(actions)\n",
    "n_states = len(states)\n",
    "P = np.zeros((n_actions, n_states, n_states))\n",
    "for (s0, a), s1 in T.items():\n",
    "    P[a, s0, s1] = 1\n",
    "print(\"Matrix form of transition function:\\n\", P)"
   ]
  },
  {
   "cell_type": "markdown",
   "metadata": {
    "id": "_FPshg_07G0R"
   },
   "source": [
    "Как получить вероятность нахождения агента в состоянии (1) через N шагов? Что происходит с вероятностями нахождения в состояниях при $N \\rightarrow \\infty$"
   ]
  },
  {
   "cell_type": "markdown",
   "metadata": {},
   "source": [
    "**Ответ:**\n",
    "Чтобы получить распределение вероятностей по состояниям после $N$ шагов, мы берем вектор исходного состояния $p_0$ (вероятности или one-hot для детерминированного случая) и умножаем его на матрицу соотвествующую определенному действию. Т.е. если $N$ шагов включали себя $a_1, a_2, ..., a_N$, то искомое распределение будет $p_0 \\cdot P[a_1] \\cdot P[a_2] \\cdot ... \\cdot P[a_N]$.\n",
    "\n",
    "Для случая (А) мы имеем только одно возможное действие для всех состояний, т.е. будет достаточно возвести матрицу в степерь $N$."
   ]
  },
  {
   "cell_type": "code",
   "execution_count": 6,
   "metadata": {},
   "outputs": [
    {
     "name": "stdout",
     "output_type": "stream",
     "text": [
      "Distribution of step #0 [1. 0. 0.]\n",
      "Distribution of step #1 [0. 1. 0.]\n",
      "Distribution of step #2 [0. 0. 1.]\n",
      "Distribution of step #3 [0. 0. 1.]\n",
      "Distribution of step #4 [0. 0. 1.]\n"
     ]
    }
   ],
   "source": [
    "p0 = np.array([1, 0, 0])\n",
    "for N in range(5):\n",
    "    print(f\"Distribution of step #{N}\", p0 @ np.linalg.matrix_power(P[0], N))"
   ]
  },
  {
   "cell_type": "code",
   "execution_count": 7,
   "metadata": {},
   "outputs": [
    {
     "name": "stdout",
     "output_type": "stream",
     "text": [
      "Distribution of step #0 [0.5 0.2 0.3]\n",
      "Distribution of step #1 [0.  0.5 0.5]\n",
      "Distribution of step #2 [0. 0. 1.]\n",
      "Distribution of step #3 [0. 0. 1.]\n",
      "Distribution of step #4 [0. 0. 1.]\n"
     ]
    }
   ],
   "source": [
    "p0 = np.array([0.5, 0.2, 0.3])\n",
    "for N in range(5):\n",
    "    print(f\"Distribution of step #{N}\", p0 @ np.linalg.matrix_power(P[0], N))"
   ]
  },
  {
   "cell_type": "markdown",
   "metadata": {},
   "source": [
    "Также можно заметить, что при $N \\rightarrow \\infty$ в случае (A) у нас к 3-му шагу всегда сходимость независимо от стартового состояния."
   ]
  },
  {
   "cell_type": "markdown",
   "metadata": {},
   "source": [
    "### MDP #B"
   ]
  },
  {
   "cell_type": "code",
   "execution_count": 8,
   "metadata": {},
   "outputs": [
    {
     "name": "stdout",
     "output_type": "stream",
     "text": [
      "states={0, 1, 2} | actions={0}\n",
      "Transition function T={(0, 0): 1, (0, 1): 2, (1, 0): 1, (1, 1): 3, (2, 0): 3, (2, 1): 2, (3, 0): 3, (3, 1): 3}\n"
     ]
    }
   ],
   "source": [
    "states_B = set(range(4))\n",
    "actions_B = set(range(2))\n",
    "\n",
    "print(f'{states=} | {actions=}')\n",
    "\n",
    "T_B = {\n",
    "    (0, 0): 1,\n",
    "    (0, 1): 2,\n",
    "    (1, 0): 1,\n",
    "    (1, 1): 3,\n",
    "    (2, 0): 3,\n",
    "    (2, 1): 2,\n",
    "    (3, 0): 3,\n",
    "    (3, 1): 3\n",
    "}\n",
    "print(f'Transition function T={T_B}')\n",
    "\n",
    "B_mdp = states_B, actions_B, T_B"
   ]
  },
  {
   "cell_type": "code",
   "execution_count": 9,
   "metadata": {},
   "outputs": [
    {
     "name": "stdout",
     "output_type": "stream",
     "text": [
      "Matrix form of transition function for case (B):\n",
      " [[[0. 1. 0. 0.]\n",
      "  [0. 1. 0. 0.]\n",
      "  [0. 0. 0. 1.]\n",
      "  [0. 0. 0. 1.]]\n",
      "\n",
      " [[0. 0. 1. 0.]\n",
      "  [0. 0. 0. 1.]\n",
      "  [0. 0. 1. 0.]\n",
      "  [0. 0. 0. 1.]]]\n"
     ]
    }
   ],
   "source": [
    "n_actions_B = len(actions_B)\n",
    "n_states_B = len(states_B)\n",
    "P_B = np.zeros((n_actions_B, n_states_B, n_states_B))\n",
    "for (s0, a), s1 in T_B.items():\n",
    "    P_B[a, s0, s1] = 1\n",
    "print(\"Matrix form of transition function for case (B):\\n\", P_B)"
   ]
  },
  {
   "cell_type": "markdown",
   "metadata": {},
   "source": [
    "### MDP #C"
   ]
  },
  {
   "cell_type": "markdown",
   "metadata": {
    "id": "p52R04np7Ku0"
   },
   "source": [
    "Задайте еще несколько MDP:\n",
    "\n",
    "- C: <img src=https://i.ibb.co/Jj9LYHjP/mdp-c.png caption=\"C\" width=\"400\" height=\"100\">"
   ]
  },
  {
   "cell_type": "code",
   "execution_count": 10,
   "metadata": {
    "id": "JSdJ9ZsI7Nfw"
   },
   "outputs": [
    {
     "name": "stdout",
     "output_type": "stream",
     "text": [
      "states={0, 1, 2} | actions={0}\n",
      "Transition function T={(0, 0): 1, (0, 1): 2, (1, 0): 1, (1, 1): 3, (2, 0): 3, (2, 1): 2, (3, 0): 3, (3, 1): 3}\n"
     ]
    }
   ],
   "source": [
    "states_C = set(range(4))\n",
    "actions_C = set(range(2))\n",
    "\n",
    "print(f'{states=} | {actions=}')\n",
    "\n",
    "T_C = {\n",
    "    (0, 0): 1,\n",
    "    (0, 1): 2,\n",
    "    (1, 0): 1,\n",
    "    (1, 1): 3,\n",
    "    (2, 0): 3,\n",
    "    (2, 1): 2,\n",
    "    (3, 0): 3,\n",
    "    (3, 1): 3\n",
    "}\n",
    "print(f'Transition function T={T_C}')\n",
    "\n",
    "C_mdp = states_C, actions_C, T_C"
   ]
  },
  {
   "cell_type": "code",
   "execution_count": 11,
   "metadata": {},
   "outputs": [
    {
     "name": "stdout",
     "output_type": "stream",
     "text": [
      "Matrix form of transition function for case (C):\n",
      " [[[0. 1. 0. 0.]\n",
      "  [0. 1. 0. 0.]\n",
      "  [0. 0. 0. 1.]\n",
      "  [0. 0. 0. 1.]]\n",
      "\n",
      " [[0. 0. 1. 0.]\n",
      "  [0. 0. 0. 1.]\n",
      "  [0. 0. 1. 0.]\n",
      "  [0. 0. 0. 1.]]]\n"
     ]
    }
   ],
   "source": [
    "n_actions_C = len(actions_C)\n",
    "n_states_C = len(states_C)\n",
    "P_C = np.zeros((n_actions_C, n_states_C, n_states_C))\n",
    "for (s0, a), s1 in T_C.items():\n",
    "    P_C[a, s0, s1] = 1\n",
    "print(\"Matrix form of transition function for case (C):\\n\", P_C)"
   ]
  },
  {
   "cell_type": "markdown",
   "metadata": {
    "id": "AiU5X4DH7TaG"
   },
   "source": [
    "Давайте попробуем задать двух агентов: случайного и оптимального (для каждой среды свой)."
   ]
  },
  {
   "cell_type": "code",
   "execution_count": 12,
   "metadata": {
    "id": "It2waXJi7WWN"
   },
   "outputs": [],
   "source": [
    "class Agent:\n",
    "    def __init__(self, actions):\n",
    "        self.rng = np.random.default_rng()\n",
    "        self.actions = np.array(list(actions))\n",
    "\n",
    "    def act(self, state):\n",
    "        return self.rng.integers(len(self.actions))"
   ]
  },
  {
   "cell_type": "markdown",
   "metadata": {
    "id": "VH6uo4EP7ZqB"
   },
   "source": [
    "В качестве дополнения, запишите стратегию агента"
   ]
  },
  {
   "cell_type": "markdown",
   "metadata": {},
   "source": [
    "В случае (A) случайный и оптимальный агент работают одинаково, т.к. доступное дейтвие только одно. Терминальное состояние $s_2$."
   ]
  },
  {
   "cell_type": "code",
   "execution_count": 13,
   "metadata": {
    "id": "t68c_r-W7asH"
   },
   "outputs": [],
   "source": [
    "class OptimalAgentA:\n",
    "    def __init__(self, actions):\n",
    "        policy = {0: 0, 1: 0, 2: None}\n",
    "        self.actions = np.array(list(actions))\n",
    "\n",
    "    def act(self, state):\n",
    "        return policy[state]"
   ]
  },
  {
   "cell_type": "markdown",
   "metadata": {},
   "source": [
    "В случае (B) случайный и оптимальный агент опять работают с одинаковой эффективностью, т.к. каждое из 3х действий приводит к какому-то терминальному состоянию за один шаг. Поэтому просто просто сделаем детерминированный алгоритм."
   ]
  },
  {
   "cell_type": "code",
   "execution_count": 14,
   "metadata": {},
   "outputs": [],
   "source": [
    "class OptimalAgentB:\n",
    "    def __init__(self, actions):\n",
    "        policy = {0: 0, 1: None, 2: None, 3: None}\n",
    "        self.actions = np.array(list(actions))\n",
    "\n",
    "    def act(self, state):\n",
    "        return policy[state]"
   ]
  },
  {
   "cell_type": "markdown",
   "metadata": {},
   "source": [
    "В случае (C) из $s_1$ есть два оптимальных пути - выберем один."
   ]
  },
  {
   "cell_type": "code",
   "execution_count": 15,
   "metadata": {},
   "outputs": [],
   "source": [
    "class OptimalAgentC:\n",
    "    def __init__(self, actions):\n",
    "        policy = {0: 0, 1: 1, 2: 0, 3: None}\n",
    "        self.actions = np.array(list(actions))\n",
    "\n",
    "    def act(self, state):\n",
    "        return policy[state]"
   ]
  },
  {
   "cell_type": "markdown",
   "metadata": {
    "id": "XGx2-KeH7lL4"
   },
   "source": [
    "## Reward, reward function\n",
    "\n",
    "Теперь добавим произвольную функцию вознаграждения. Например, для A:"
   ]
  },
  {
   "cell_type": "code",
   "execution_count": 16,
   "metadata": {
    "id": "fk7umEnA7oFv"
   },
   "outputs": [
    {
     "name": "stdout",
     "output_type": "stream",
     "text": [
      "{(0, 0): 0.5, (1, 0): 0.5}\n",
      "({0, 1, 2}, {0}, {(0, 0): 1, (1, 0): 2, (2, 0): 2}, {(0, 0): 0.5, (1, 0): 0.5}, {2})\n"
     ]
    }
   ],
   "source": [
    "R = {\n",
    "    (0, 0): 0.5,\n",
    "    (1, 0): 0.5,\n",
    "}\n",
    "print(R)\n",
    "\n",
    "terminal_states_A = {2}\n",
    "A_mdp = *A_mdp, R, terminal_states_A\n",
    "print(A_mdp)"
   ]
  },
  {
   "cell_type": "markdown",
   "metadata": {},
   "source": [
    "Функция вознаграждения для B:"
   ]
  },
  {
   "cell_type": "code",
   "execution_count": 17,
   "metadata": {},
   "outputs": [
    {
     "name": "stdout",
     "output_type": "stream",
     "text": [
      "{(0, 0): 1.0, (0, 1): 1.0, (0, 2): 1.0}\n",
      "({0, 1, 2, 3}, {0, 1}, {(0, 0): 1, (0, 1): 2, (1, 0): 1, (1, 1): 3, (2, 0): 3, (2, 1): 2, (3, 0): 3, (3, 1): 3}, {(0, 0): 1.0, (0, 1): 1.0, (0, 2): 1.0}, {1, 2, 3})\n"
     ]
    }
   ],
   "source": [
    "R_B = {\n",
    "    (0, 0): 1.0,\n",
    "    (0, 1): 1.0,\n",
    "    (0, 2): 1.0\n",
    "}\n",
    "print(R_B)\n",
    "\n",
    "terminal_states_B = {1, 2, 3}\n",
    "B_mdp = *B_mdp, R_B, terminal_states_B\n",
    "print(B_mdp)"
   ]
  },
  {
   "cell_type": "markdown",
   "metadata": {},
   "source": [
    "Функция вознаграждения для B:"
   ]
  },
  {
   "cell_type": "code",
   "execution_count": 18,
   "metadata": {},
   "outputs": [
    {
     "name": "stdout",
     "output_type": "stream",
     "text": [
      "{(0, 0): 0.5, (0, 1): 0.5, (1, 0): 0.0, (1, 1): 1.0, (2, 0): 1.0, (2, 1): 0.0}\n",
      "({0, 1, 2, 3}, {0, 1}, {(0, 0): 1, (0, 1): 2, (1, 0): 1, (1, 1): 3, (2, 0): 3, (2, 1): 2, (3, 0): 3, (3, 1): 3}, {(0, 0): 0.5, (0, 1): 0.5, (1, 0): 0.0, (1, 1): 1.0, (2, 0): 1.0, (2, 1): 0.0}, {3})\n"
     ]
    }
   ],
   "source": [
    "R_C = {\n",
    "    (0, 0): 0.5,\n",
    "    (0, 1): 0.5,\n",
    "    (1, 0): 0.0,\n",
    "    (1, 1): 1.0,\n",
    "    (2, 0): 1.0,\n",
    "    (2, 1): 0.0\n",
    "}\n",
    "print(R_C)\n",
    "\n",
    "terminal_states_C = {3}\n",
    "C_mdp = *C_mdp, R_C, terminal_states_C\n",
    "print(C_mdp)"
   ]
  },
  {
   "cell_type": "markdown",
   "metadata": {
    "id": "j92TZ1l67rVh"
   },
   "source": [
    "## Interaction loop, trajectory, termination, truncation, episode\n",
    "\n",
    "Общий цикл взаимодействия в рамках эпизода:\n",
    "1. Инициализировать среду: $s \\leftarrow \\text{env.init()}$\n",
    "2. Цикл:\n",
    "    - выбрать действие: $a \\leftarrow \\pi(s)$\n",
    "    - получить ответ от среды: $s, r, d \\leftarrow \\text{env.next(a)}$\n",
    "    - если $d == \\text{True}$, выйти из цикла"
   ]
  },
  {
   "cell_type": "code",
   "execution_count": 19,
   "metadata": {
    "id": "MRPZACJt7vG8"
   },
   "outputs": [
    {
     "data": {
      "text/plain": [
       "[(0, 0, 0.5), (1, 0, 0.5)]"
      ]
     },
     "execution_count": 19,
     "metadata": {},
     "output_type": "execute_result"
    }
   ],
   "source": [
    "def run_episode(mdp):\n",
    "    states, actions, T, R, terminal_states = mdp\n",
    "    agent = Agent(actions)\n",
    "\n",
    "    s = 0\n",
    "    tau = []\n",
    "    for _ in range(100):\n",
    "        a = agent.act(s)\n",
    "        s_next = T[(s, a)]\n",
    "        r = R[(s, a)]\n",
    "\n",
    "        tau.append((s, a, r))\n",
    "        s = s_next\n",
    "\n",
    "        if s in terminal_states:\n",
    "                break\n",
    "\n",
    "    return tau\n",
    "\n",
    "run_episode(A_mdp)"
   ]
  },
  {
   "cell_type": "markdown",
   "metadata": {
    "id": "wbGEr8kl7xnS"
   },
   "source": [
    "Termination — означает окончание эпизода, когда достигнуто терминальное состояние. Является частью задания среды.\n",
    "\n",
    "Truncation — означает окончание эпизода, когда достигнут лимит по числу шагов (=времени). Обычно является внешне заданным параметром для удобства обучения.\n",
    "\n",
    "Пока не будем вводить truncation, но поддержим termination: расширьте определение среды информацией о терминальных состояниях для всех описанных ранее сред. Сгенерируйте по несколько случайных траекторий для каждой среды."
   ]
  },
  {
   "cell_type": "markdown",
   "metadata": {
    "id": "lxHNM9kS74WW"
   },
   "source": [
    "### Return, expected return\n",
    "\n",
    "Наиболее важная метрика оценки качества работы агента: отдача.\n",
    "\n",
    "Отдача: $G(s_t) = \\sum_{i=t}^T r_i$\n",
    "\n",
    "Обычно также вводят параметр $\\gamma \\in [0, 1]$, дисконтирующий будущие вознаграждения. А еще, тк отдача может меняться от запуска к запуску благодаря вероятностным процессам, нас интересует отдача в среднем — ожидаемая отдача:\n",
    "\n",
    "$$\\hat{G}(s_t) = \\mathbb{E} [ \\sum_{i=t}^T \\gamma^{i-t} r_i ]$$\n",
    "\n",
    "Именно ее и оптимизируют в RL.\n",
    "\n",
    "Давайте научимся считать отдачу для состояний по траектории и считать среднюю отдачу."
   ]
  },
  {
   "cell_type": "code",
   "execution_count": 20,
   "metadata": {
    "id": "scdThsNA8T2B"
   },
   "outputs": [
    {
     "data": {
      "text/plain": [
       "array([0.5, 0.5])"
      ]
     },
     "execution_count": 20,
     "metadata": {},
     "output_type": "execute_result"
    }
   ],
   "source": [
    "gamma = 0.9\n",
    "tau = run_episode(A_mdp)\n",
    "T = len(tau)\n",
    "rewards = np.array([sar[2] for sar in tau])\n",
    "rewards"
   ]
  },
  {
   "cell_type": "code",
   "execution_count": 21,
   "metadata": {},
   "outputs": [],
   "source": [
    "gammas = np.array([gamma ** i for i in range(T)])\n",
    "G = np.zeros(T)\n",
    "G_hat = np.zeros(T)\n",
    "for t in range(T):\n",
    "    G[t] = np.sum(rewards[t:])\n",
    "    G_hat[t] += np.sum(rewards[t:] * gammas[t:] * (gamma ** -t))"
   ]
  },
  {
   "cell_type": "code",
   "execution_count": 22,
   "metadata": {},
   "outputs": [
    {
     "name": "stdout",
     "output_type": "stream",
     "text": [
      "G=[1.0, 0.5]\n",
      "G_hat=[0.95, 0.5]\n"
     ]
    }
   ],
   "source": [
    "print(f\"G={list(G)}\\nG_hat={list(G_hat)}\")"
   ]
  }
 ],
 "metadata": {
  "colab": {
   "provenance": []
  },
  "kernelspec": {
   "display_name": "Python 3 (ipykernel)",
   "language": "python",
   "name": "python3"
  },
  "language_info": {
   "codemirror_mode": {
    "name": "ipython",
    "version": 3
   },
   "file_extension": ".py",
   "mimetype": "text/x-python",
   "name": "python",
   "nbconvert_exporter": "python",
   "pygments_lexer": "ipython3",
   "version": "3.11.0"
  }
 },
 "nbformat": 4,
 "nbformat_minor": 4
}
